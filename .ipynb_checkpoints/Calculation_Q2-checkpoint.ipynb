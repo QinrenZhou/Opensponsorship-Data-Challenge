{
 "cells": [
  {
   "cell_type": "markdown",
   "id": "54b4bd23",
   "metadata": {},
   "source": [
    "# <font color = blue>[Calculation]</font>"
   ]
  },
  {
   "cell_type": "markdown",
   "id": "e4ae9551",
   "metadata": {},
   "source": [
    "## <font color = blue>Import Packages+Data</font>"
   ]
  },
  {
   "cell_type": "code",
   "execution_count": 199,
   "id": "cff7a4c3",
   "metadata": {},
   "outputs": [],
   "source": [
    "import pandas as pd\n",
    "import numpy as np\n",
    "import matplotlib.pyplot as plt\n",
    "import seaborn as sns\n",
    "import time\n",
    "import datetime"
   ]
  },
  {
   "cell_type": "code",
   "execution_count": 200,
   "id": "65c10566",
   "metadata": {},
   "outputs": [],
   "source": [
    "cam_df = pd.read_csv(\"./Raw Data/sample_campaigns - data.csv\")\n",
    "user_df = pd.read_csv(\"./Raw Data/sample_users - data.csv\")\n",
    "brands_df = pd.read_csv(\"./Raw Data/sample_brands - data.csv\")\n"
   ]
  },
  {
   "cell_type": "code",
   "execution_count": 201,
   "id": "34806be6",
   "metadata": {},
   "outputs": [],
   "source": [
    "#Rename Columns\n",
    "cam_df = cam_df.rename(columns={'created': 'cam_created'})"
   ]
  },
  {
   "cell_type": "code",
   "execution_count": 202,
   "id": "dd13faa7",
   "metadata": {},
   "outputs": [
    {
     "name": "stdout",
     "output_type": "stream",
     "text": [
      "<class 'pandas.core.frame.DataFrame'>\n",
      "RangeIndex: 836 entries, 0 to 835\n",
      "Data columns (total 6 columns):\n",
      " #   Column       Non-Null Count  Dtype \n",
      "---  ------       --------------  ----- \n",
      " 0   user_id      836 non-null    object\n",
      " 1   created      836 non-null    object\n",
      " 2   planLevel    836 non-null    int64 \n",
      " 3   lastActive   835 non-null    object\n",
      " 4   companySize  315 non-null    object\n",
      " 5   country      725 non-null    object\n",
      "dtypes: int64(1), object(5)\n",
      "memory usage: 39.3+ KB\n"
     ]
    }
   ],
   "source": [
    "user_df.info()"
   ]
  },
  {
   "cell_type": "code",
   "execution_count": 203,
   "id": "17a6cce6",
   "metadata": {},
   "outputs": [
    {
     "name": "stdout",
     "output_type": "stream",
     "text": [
      "<class 'pandas.core.frame.DataFrame'>\n",
      "RangeIndex: 300 entries, 0 to 299\n",
      "Data columns (total 11 columns):\n",
      " #   Column         Non-Null Count  Dtype \n",
      "---  ------         --------------  ----- \n",
      " 0   campaign_id    300 non-null    object\n",
      " 1   user_id        299 non-null    object\n",
      " 2   payment        300 non-null    object\n",
      " 3   updated        300 non-null    object\n",
      " 4   cam_created    300 non-null    object\n",
      " 5   isUnpublished  300 non-null    bool  \n",
      " 6   isDeleted      300 non-null    bool  \n",
      " 7   isDraft        300 non-null    bool  \n",
      " 8   isApproved     300 non-null    bool  \n",
      " 9   isPublic       300 non-null    bool  \n",
      " 10  published      146 non-null    object\n",
      "dtypes: bool(5), object(6)\n",
      "memory usage: 15.7+ KB\n"
     ]
    }
   ],
   "source": [
    "cam_df.info()"
   ]
  },
  {
   "cell_type": "code",
   "execution_count": 204,
   "id": "7628a010",
   "metadata": {},
   "outputs": [
    {
     "name": "stdout",
     "output_type": "stream",
     "text": [
      "<class 'pandas.core.frame.DataFrame'>\n",
      "RangeIndex: 5839 entries, 0 to 5838\n",
      "Data columns (total 11 columns):\n",
      " #   Column               Non-Null Count  Dtype  \n",
      "---  ------               --------------  -----  \n",
      " 0   brand_id             5839 non-null   int64  \n",
      " 1   created              5839 non-null   object \n",
      " 2   lastActive           5831 non-null   object \n",
      " 3   planLevel            5839 non-null   int64  \n",
      " 4   num_sub_user         5839 non-null   int64  \n",
      " 5   role                 5833 non-null   object \n",
      " 6   industry_categories  5816 non-null   object \n",
      " 7   bantScore            1295 non-null   float64\n",
      " 8   companySize          2406 non-null   object \n",
      " 9   onboarding_stage     5600 non-null   float64\n",
      " 10  country              4835 non-null   object \n",
      "dtypes: float64(2), int64(3), object(6)\n",
      "memory usage: 501.9+ KB\n"
     ]
    }
   ],
   "source": [
    "brands_df.info()"
   ]
  },
  {
   "cell_type": "code",
   "execution_count": 205,
   "id": "b1ef8dc3",
   "metadata": {},
   "outputs": [],
   "source": [
    "brands_df.drop(['num_sub_user', 'role','industry_categories','bantScore','companySize','onboarding_stage','country'], axis=1, inplace=True)"
   ]
  },
  {
   "cell_type": "code",
   "execution_count": 206,
   "id": "721f9f4f",
   "metadata": {},
   "outputs": [
    {
     "data": {
      "text/plain": [
       "(5839, 4)"
      ]
     },
     "execution_count": 206,
     "metadata": {},
     "output_type": "execute_result"
    }
   ],
   "source": [
    "brands_df.shape"
   ]
  },
  {
   "cell_type": "code",
   "execution_count": 207,
   "id": "f8e3f906",
   "metadata": {},
   "outputs": [
    {
     "data": {
      "text/plain": [
       "(300, 11)"
      ]
     },
     "execution_count": 207,
     "metadata": {},
     "output_type": "execute_result"
    }
   ],
   "source": [
    "cam_df.shape"
   ]
  },
  {
   "cell_type": "code",
   "execution_count": 208,
   "id": "aeebfd62",
   "metadata": {},
   "outputs": [
    {
     "data": {
      "text/plain": [
       "(836, 6)"
      ]
     },
     "execution_count": 208,
     "metadata": {},
     "output_type": "execute_result"
    }
   ],
   "source": [
    "user_df.shape"
   ]
  },
  {
   "cell_type": "code",
   "execution_count": 209,
   "id": "95bec4c2",
   "metadata": {},
   "outputs": [
    {
     "name": "stdout",
     "output_type": "stream",
     "text": [
      "<class 'pandas.core.frame.DataFrame'>\n",
      "Int64Index: 300 entries, 0 to 299\n",
      "Data columns (total 16 columns):\n",
      " #   Column         Non-Null Count  Dtype  \n",
      "---  ------         --------------  -----  \n",
      " 0   campaign_id    300 non-null    object \n",
      " 1   user_id        299 non-null    object \n",
      " 2   payment        300 non-null    object \n",
      " 3   updated        300 non-null    object \n",
      " 4   cam_created    300 non-null    object \n",
      " 5   isUnpublished  300 non-null    bool   \n",
      " 6   isDeleted      300 non-null    bool   \n",
      " 7   isDraft        300 non-null    bool   \n",
      " 8   isApproved     300 non-null    bool   \n",
      " 9   isPublic       300 non-null    bool   \n",
      " 10  published      146 non-null    object \n",
      " 11  created        256 non-null    object \n",
      " 12  planLevel      256 non-null    float64\n",
      " 13  lastActive     256 non-null    object \n",
      " 14  companySize    82 non-null     object \n",
      " 15  country        236 non-null    object \n",
      "dtypes: bool(5), float64(1), object(10)\n",
      "memory usage: 29.6+ KB\n"
     ]
    }
   ],
   "source": [
    "#Left Join Dataset\n",
    "test=cam_df.merge(user_df, on='user_id', how='left')\n",
    "test.info()"
   ]
  },
  {
   "cell_type": "code",
   "execution_count": 210,
   "id": "78c9b231",
   "metadata": {},
   "outputs": [
    {
     "data": {
      "text/plain": [
       "(300, 16)"
      ]
     },
     "execution_count": 210,
     "metadata": {},
     "output_type": "execute_result"
    }
   ],
   "source": [
    "test.shape"
   ]
  },
  {
   "cell_type": "code",
   "execution_count": 82,
   "id": "540ba7a6",
   "metadata": {
    "scrolled": true
   },
   "outputs": [
    {
     "data": {
      "text/html": [
       "<div>\n",
       "<style scoped>\n",
       "    .dataframe tbody tr th:only-of-type {\n",
       "        vertical-align: middle;\n",
       "    }\n",
       "\n",
       "    .dataframe tbody tr th {\n",
       "        vertical-align: top;\n",
       "    }\n",
       "\n",
       "    .dataframe thead th {\n",
       "        text-align: right;\n",
       "    }\n",
       "</style>\n",
       "<table border=\"1\" class=\"dataframe\">\n",
       "  <thead>\n",
       "    <tr style=\"text-align: right;\">\n",
       "      <th></th>\n",
       "      <th>campaign_id</th>\n",
       "      <th>user_id</th>\n",
       "      <th>payment</th>\n",
       "      <th>updated</th>\n",
       "      <th>cam_created</th>\n",
       "      <th>isUnpublished</th>\n",
       "      <th>isDeleted</th>\n",
       "      <th>isDraft</th>\n",
       "      <th>isApproved</th>\n",
       "      <th>isPublic</th>\n",
       "      <th>published</th>\n",
       "      <th>created</th>\n",
       "      <th>planLevel</th>\n",
       "      <th>lastActive</th>\n",
       "      <th>companySize</th>\n",
       "      <th>country</th>\n",
       "    </tr>\n",
       "  </thead>\n",
       "  <tbody>\n",
       "    <tr>\n",
       "      <th>0</th>\n",
       "      <td>61269b87fd44e10d880dd983</td>\n",
       "      <td>61269342b9e1180d61686d9a</td>\n",
       "      <td>{'cash': {'available': True, 'budget': 5000, '...</td>\n",
       "      <td>2021/8/25 19:38</td>\n",
       "      <td>2021/8/25 19:35</td>\n",
       "      <td>False</td>\n",
       "      <td>False</td>\n",
       "      <td>True</td>\n",
       "      <td>False</td>\n",
       "      <td>False</td>\n",
       "      <td>NaN</td>\n",
       "      <td>2021/8/25 19:00</td>\n",
       "      <td>0.0</td>\n",
       "      <td>2021/8/25 19:38</td>\n",
       "      <td>10 - 49 employees</td>\n",
       "      <td>United States</td>\n",
       "    </tr>\n",
       "    <tr>\n",
       "      <th>1</th>\n",
       "      <td>60c810edba9bff0d35f14179</td>\n",
       "      <td>60c80e784857720d47bba912</td>\n",
       "      <td>{'cash': {'available': True, 'budget': 2000, '...</td>\n",
       "      <td>2021/6/15 2:53</td>\n",
       "      <td>2021/6/15 2:31</td>\n",
       "      <td>False</td>\n",
       "      <td>False</td>\n",
       "      <td>True</td>\n",
       "      <td>False</td>\n",
       "      <td>False</td>\n",
       "      <td>NaN</td>\n",
       "      <td>2021/6/15 2:20</td>\n",
       "      <td>0.0</td>\n",
       "      <td>2021/7/12 23:29</td>\n",
       "      <td>less than 10 employees</td>\n",
       "      <td>United States</td>\n",
       "    </tr>\n",
       "    <tr>\n",
       "      <th>2</th>\n",
       "      <td>5ef62d675ff1190dd60515cb</td>\n",
       "      <td>5ea19a66edfbf30ddb8b55b6</td>\n",
       "      <td>{'cash': {'available': False, 'budget': ''}, '...</td>\n",
       "      <td>2020/6/26 17:32</td>\n",
       "      <td>2020/6/26 17:16</td>\n",
       "      <td>False</td>\n",
       "      <td>False</td>\n",
       "      <td>True</td>\n",
       "      <td>False</td>\n",
       "      <td>False</td>\n",
       "      <td>NaN</td>\n",
       "      <td>2020/4/23 13:38</td>\n",
       "      <td>0.0</td>\n",
       "      <td>2021/7/31 15:50</td>\n",
       "      <td>NaN</td>\n",
       "      <td>United States</td>\n",
       "    </tr>\n",
       "    <tr>\n",
       "      <th>3</th>\n",
       "      <td>5fce7222b0ebf60d3cd33336</td>\n",
       "      <td>5ac6677269741c3f0b12f699</td>\n",
       "      <td>{'cash': {'available': False, 'budget': 2000},...</td>\n",
       "      <td>2020/12/7 18:20</td>\n",
       "      <td>2020/12/7 18:19</td>\n",
       "      <td>False</td>\n",
       "      <td>False</td>\n",
       "      <td>True</td>\n",
       "      <td>False</td>\n",
       "      <td>False</td>\n",
       "      <td>NaN</td>\n",
       "      <td>NaN</td>\n",
       "      <td>NaN</td>\n",
       "      <td>NaN</td>\n",
       "      <td>NaN</td>\n",
       "      <td>NaN</td>\n",
       "    </tr>\n",
       "    <tr>\n",
       "      <th>4</th>\n",
       "      <td>613657f332d7960d67273b2e</td>\n",
       "      <td>60897d99fa40140d62906a1c</td>\n",
       "      <td>{'cash': {'available': True, 'budget': 10000, ...</td>\n",
       "      <td>2021/9/27 15:35</td>\n",
       "      <td>2021/9/6 18:03</td>\n",
       "      <td>False</td>\n",
       "      <td>False</td>\n",
       "      <td>False</td>\n",
       "      <td>True</td>\n",
       "      <td>True</td>\n",
       "      <td>2021/9/27 15:35</td>\n",
       "      <td>2021/4/28 15:22</td>\n",
       "      <td>0.0</td>\n",
       "      <td>2021/9/30 17:11</td>\n",
       "      <td>less than 10 employees</td>\n",
       "      <td>United States</td>\n",
       "    </tr>\n",
       "  </tbody>\n",
       "</table>\n",
       "</div>"
      ],
      "text/plain": [
       "                campaign_id                   user_id  \\\n",
       "0  61269b87fd44e10d880dd983  61269342b9e1180d61686d9a   \n",
       "1  60c810edba9bff0d35f14179  60c80e784857720d47bba912   \n",
       "2  5ef62d675ff1190dd60515cb  5ea19a66edfbf30ddb8b55b6   \n",
       "3  5fce7222b0ebf60d3cd33336  5ac6677269741c3f0b12f699   \n",
       "4  613657f332d7960d67273b2e  60897d99fa40140d62906a1c   \n",
       "\n",
       "                                             payment          updated  \\\n",
       "0  {'cash': {'available': True, 'budget': 5000, '...  2021/8/25 19:38   \n",
       "1  {'cash': {'available': True, 'budget': 2000, '...   2021/6/15 2:53   \n",
       "2  {'cash': {'available': False, 'budget': ''}, '...  2020/6/26 17:32   \n",
       "3  {'cash': {'available': False, 'budget': 2000},...  2020/12/7 18:20   \n",
       "4  {'cash': {'available': True, 'budget': 10000, ...  2021/9/27 15:35   \n",
       "\n",
       "       cam_created  isUnpublished  isDeleted  isDraft  isApproved  isPublic  \\\n",
       "0  2021/8/25 19:35          False      False     True       False     False   \n",
       "1   2021/6/15 2:31          False      False     True       False     False   \n",
       "2  2020/6/26 17:16          False      False     True       False     False   \n",
       "3  2020/12/7 18:19          False      False     True       False     False   \n",
       "4   2021/9/6 18:03          False      False    False        True      True   \n",
       "\n",
       "         published          created  planLevel       lastActive  \\\n",
       "0              NaN  2021/8/25 19:00        0.0  2021/8/25 19:38   \n",
       "1              NaN   2021/6/15 2:20        0.0  2021/7/12 23:29   \n",
       "2              NaN  2020/4/23 13:38        0.0  2021/7/31 15:50   \n",
       "3              NaN              NaN        NaN              NaN   \n",
       "4  2021/9/27 15:35  2021/4/28 15:22        0.0  2021/9/30 17:11   \n",
       "\n",
       "              companySize        country  \n",
       "0       10 - 49 employees  United States  \n",
       "1  less than 10 employees  United States  \n",
       "2                     NaN  United States  \n",
       "3                     NaN            NaN  \n",
       "4  less than 10 employees  United States  "
      ]
     },
     "execution_count": 82,
     "metadata": {},
     "output_type": "execute_result"
    }
   ],
   "source": [
    "test.head()"
   ]
  },
  {
   "cell_type": "code",
   "execution_count": 211,
   "id": "4ecd35cb",
   "metadata": {},
   "outputs": [
    {
     "name": "stdout",
     "output_type": "stream",
     "text": [
      "<class 'pandas.core.frame.DataFrame'>\n",
      "Int64Index: 300 entries, 0 to 299\n",
      "Data columns (total 17 columns):\n",
      " #   Column         Non-Null Count  Dtype  \n",
      "---  ------         --------------  -----  \n",
      " 0   campaign_id    300 non-null    object \n",
      " 1   user_id        299 non-null    object \n",
      " 2   payment        300 non-null    object \n",
      " 3   updated        300 non-null    object \n",
      " 4   cam_created    300 non-null    object \n",
      " 5   isUnpublished  300 non-null    bool   \n",
      " 6   isDeleted      300 non-null    bool   \n",
      " 7   isDraft        300 non-null    bool   \n",
      " 8   isApproved     300 non-null    bool   \n",
      " 9   isPublic       300 non-null    bool   \n",
      " 10  published      146 non-null    object \n",
      " 11  created        256 non-null    object \n",
      " 12  planLevel      256 non-null    float64\n",
      " 13  lastActive     256 non-null    object \n",
      " 14  companySize    82 non-null     object \n",
      " 15  country        236 non-null    object \n",
      " 16  brand_id       126 non-null    float64\n",
      "dtypes: bool(5), float64(2), object(10)\n",
      "memory usage: 31.9+ KB\n"
     ]
    }
   ],
   "source": [
    "df = test.merge(brands_df, on=['created','lastActive','planLevel'], how='left')\n",
    "df.info()"
   ]
  },
  {
   "cell_type": "code",
   "execution_count": 212,
   "id": "d79ef59a",
   "metadata": {},
   "outputs": [
    {
     "data": {
      "text/plain": [
       "(300, 17)"
      ]
     },
     "execution_count": 212,
     "metadata": {},
     "output_type": "execute_result"
    }
   ],
   "source": [
    "df.shape"
   ]
  },
  {
   "cell_type": "code",
   "execution_count": 213,
   "id": "a236a790",
   "metadata": {},
   "outputs": [
    {
     "data": {
      "text/plain": [
       "companySize    218\n",
       "brand_id       174\n",
       "published      154\n",
       "country         64\n",
       "lastActive      44\n",
       "planLevel       44\n",
       "created         44\n",
       "user_id          1\n",
       "cam_created      0\n",
       "payment          0\n",
       "dtype: int64"
      ]
     },
     "execution_count": 213,
     "metadata": {},
     "output_type": "execute_result"
    }
   ],
   "source": [
    "df.isnull().sum().sort_values(ascending=False).head(10)"
   ]
  },
  {
   "cell_type": "code",
   "execution_count": 214,
   "id": "694480c3",
   "metadata": {},
   "outputs": [],
   "source": [
    "df_clean = df.dropna(subset=['brand_id'])"
   ]
  },
  {
   "cell_type": "code",
   "execution_count": 215,
   "id": "c018d8f2",
   "metadata": {},
   "outputs": [
    {
     "data": {
      "text/plain": [
       "(126, 17)"
      ]
     },
     "execution_count": 215,
     "metadata": {},
     "output_type": "execute_result"
    }
   ],
   "source": [
    "df_clean.shape"
   ]
  },
  {
   "cell_type": "code",
   "execution_count": 216,
   "id": "0ae5c85d",
   "metadata": {},
   "outputs": [
    {
     "name": "stderr",
     "output_type": "stream",
     "text": [
      "/tmp/ipykernel_6113/2106004615.py:1: SettingWithCopyWarning: \n",
      "A value is trying to be set on a copy of a slice from a DataFrame.\n",
      "Try using .loc[row_indexer,col_indexer] = value instead\n",
      "\n",
      "See the caveats in the documentation: https://pandas.pydata.org/pandas-docs/stable/user_guide/indexing.html#returning-a-view-versus-a-copy\n",
      "  df_clean['brand_id']=df_clean['brand_id'].apply(np.int64)\n"
     ]
    }
   ],
   "source": [
    "df_clean['brand_id']=df_clean['brand_id'].apply(np.int64)"
   ]
  },
  {
   "cell_type": "code",
   "execution_count": 217,
   "id": "772c06ee",
   "metadata": {},
   "outputs": [
    {
     "name": "stdout",
     "output_type": "stream",
     "text": [
      "<class 'pandas.core.frame.DataFrame'>\n",
      "Int64Index: 126 entries, 0 to 294\n",
      "Data columns (total 17 columns):\n",
      " #   Column         Non-Null Count  Dtype  \n",
      "---  ------         --------------  -----  \n",
      " 0   campaign_id    126 non-null    object \n",
      " 1   user_id        126 non-null    object \n",
      " 2   payment        126 non-null    object \n",
      " 3   updated        126 non-null    object \n",
      " 4   cam_created    126 non-null    object \n",
      " 5   isUnpublished  126 non-null    bool   \n",
      " 6   isDeleted      126 non-null    bool   \n",
      " 7   isDraft        126 non-null    bool   \n",
      " 8   isApproved     126 non-null    bool   \n",
      " 9   isPublic       126 non-null    bool   \n",
      " 10  published      65 non-null     object \n",
      " 11  created        126 non-null    object \n",
      " 12  planLevel      126 non-null    float64\n",
      " 13  lastActive     126 non-null    object \n",
      " 14  companySize    37 non-null     object \n",
      " 15  country        115 non-null    object \n",
      " 16  brand_id       126 non-null    int64  \n",
      "dtypes: bool(5), float64(1), int64(1), object(10)\n",
      "memory usage: 13.4+ KB\n"
     ]
    }
   ],
   "source": [
    "df_clean.info()"
   ]
  },
  {
   "cell_type": "code",
   "execution_count": 218,
   "id": "6a280c93",
   "metadata": {},
   "outputs": [
    {
     "data": {
      "text/plain": [
       "781     3\n",
       "2023    2\n",
       "1195    2\n",
       "1722    2\n",
       "3408    2\n",
       "       ..\n",
       "3605    1\n",
       "2032    1\n",
       "3569    1\n",
       "1233    1\n",
       "2614    1\n",
       "Name: brand_id, Length: 115, dtype: int64"
      ]
     },
     "execution_count": 218,
     "metadata": {},
     "output_type": "execute_result"
    }
   ],
   "source": [
    "df_clean.brand_id.value_counts().sort_values(ascending=False)"
   ]
  },
  {
   "cell_type": "code",
   "execution_count": 219,
   "id": "b332afe6",
   "metadata": {},
   "outputs": [
    {
     "data": {
      "text/html": [
       "<div>\n",
       "<style scoped>\n",
       "    .dataframe tbody tr th:only-of-type {\n",
       "        vertical-align: middle;\n",
       "    }\n",
       "\n",
       "    .dataframe tbody tr th {\n",
       "        vertical-align: top;\n",
       "    }\n",
       "\n",
       "    .dataframe thead th {\n",
       "        text-align: right;\n",
       "    }\n",
       "</style>\n",
       "<table border=\"1\" class=\"dataframe\">\n",
       "  <thead>\n",
       "    <tr style=\"text-align: right;\">\n",
       "      <th></th>\n",
       "      <th>campaign_id</th>\n",
       "      <th>user_id</th>\n",
       "      <th>payment</th>\n",
       "      <th>updated</th>\n",
       "      <th>cam_created</th>\n",
       "      <th>isUnpublished</th>\n",
       "      <th>isDeleted</th>\n",
       "      <th>isDraft</th>\n",
       "      <th>isApproved</th>\n",
       "      <th>isPublic</th>\n",
       "      <th>published</th>\n",
       "      <th>created</th>\n",
       "      <th>planLevel</th>\n",
       "      <th>lastActive</th>\n",
       "      <th>companySize</th>\n",
       "      <th>country</th>\n",
       "      <th>brand_id</th>\n",
       "    </tr>\n",
       "  </thead>\n",
       "  <tbody>\n",
       "    <tr>\n",
       "      <th>0</th>\n",
       "      <td>61269b87fd44e10d880dd983</td>\n",
       "      <td>61269342b9e1180d61686d9a</td>\n",
       "      <td>{'cash': {'available': True, 'budget': 5000, '...</td>\n",
       "      <td>2021/8/25 19:38</td>\n",
       "      <td>2021/8/25 19:35</td>\n",
       "      <td>False</td>\n",
       "      <td>False</td>\n",
       "      <td>True</td>\n",
       "      <td>False</td>\n",
       "      <td>False</td>\n",
       "      <td>NaN</td>\n",
       "      <td>2021/8/25 19:00</td>\n",
       "      <td>0.0</td>\n",
       "      <td>2021/8/25 19:38</td>\n",
       "      <td>10 - 49 employees</td>\n",
       "      <td>United States</td>\n",
       "      <td>1816</td>\n",
       "    </tr>\n",
       "    <tr>\n",
       "      <th>1</th>\n",
       "      <td>60c810edba9bff0d35f14179</td>\n",
       "      <td>60c80e784857720d47bba912</td>\n",
       "      <td>{'cash': {'available': True, 'budget': 2000, '...</td>\n",
       "      <td>2021/6/15 2:53</td>\n",
       "      <td>2021/6/15 2:31</td>\n",
       "      <td>False</td>\n",
       "      <td>False</td>\n",
       "      <td>True</td>\n",
       "      <td>False</td>\n",
       "      <td>False</td>\n",
       "      <td>NaN</td>\n",
       "      <td>2021/6/15 2:20</td>\n",
       "      <td>0.0</td>\n",
       "      <td>2021/7/12 23:29</td>\n",
       "      <td>less than 10 employees</td>\n",
       "      <td>United States</td>\n",
       "      <td>4734</td>\n",
       "    </tr>\n",
       "    <tr>\n",
       "      <th>2</th>\n",
       "      <td>5ef62d675ff1190dd60515cb</td>\n",
       "      <td>5ea19a66edfbf30ddb8b55b6</td>\n",
       "      <td>{'cash': {'available': False, 'budget': 0}, 'p...</td>\n",
       "      <td>2020/6/26 17:32</td>\n",
       "      <td>2020/6/26 17:16</td>\n",
       "      <td>False</td>\n",
       "      <td>False</td>\n",
       "      <td>True</td>\n",
       "      <td>False</td>\n",
       "      <td>False</td>\n",
       "      <td>NaN</td>\n",
       "      <td>2020/4/23 13:38</td>\n",
       "      <td>0.0</td>\n",
       "      <td>2021/7/31 15:50</td>\n",
       "      <td>NaN</td>\n",
       "      <td>United States</td>\n",
       "      <td>2960</td>\n",
       "    </tr>\n",
       "    <tr>\n",
       "      <th>4</th>\n",
       "      <td>613657f332d7960d67273b2e</td>\n",
       "      <td>60897d99fa40140d62906a1c</td>\n",
       "      <td>{'cash': {'available': True, 'budget': 10000, ...</td>\n",
       "      <td>2021/9/27 15:35</td>\n",
       "      <td>2021/9/6 18:03</td>\n",
       "      <td>False</td>\n",
       "      <td>False</td>\n",
       "      <td>False</td>\n",
       "      <td>True</td>\n",
       "      <td>True</td>\n",
       "      <td>2021/9/27 15:35</td>\n",
       "      <td>2021/4/28 15:22</td>\n",
       "      <td>0.0</td>\n",
       "      <td>2021/9/30 17:11</td>\n",
       "      <td>less than 10 employees</td>\n",
       "      <td>United States</td>\n",
       "      <td>2320</td>\n",
       "    </tr>\n",
       "    <tr>\n",
       "      <th>6</th>\n",
       "      <td>60e4800a4d9ca6124ae63b4f</td>\n",
       "      <td>60e4673b5e3f8b6eee44c509</td>\n",
       "      <td>{'equity': {'budget': 0, 'available': False}, ...</td>\n",
       "      <td>2021/7/6 16:21</td>\n",
       "      <td>2021/7/6 16:08</td>\n",
       "      <td>False</td>\n",
       "      <td>False</td>\n",
       "      <td>True</td>\n",
       "      <td>False</td>\n",
       "      <td>False</td>\n",
       "      <td>NaN</td>\n",
       "      <td>2021/7/6 14:22</td>\n",
       "      <td>2.0</td>\n",
       "      <td>2021/7/13 16:49</td>\n",
       "      <td>less than 10 employees</td>\n",
       "      <td>United States</td>\n",
       "      <td>4565</td>\n",
       "    </tr>\n",
       "  </tbody>\n",
       "</table>\n",
       "</div>"
      ],
      "text/plain": [
       "                campaign_id                   user_id  \\\n",
       "0  61269b87fd44e10d880dd983  61269342b9e1180d61686d9a   \n",
       "1  60c810edba9bff0d35f14179  60c80e784857720d47bba912   \n",
       "2  5ef62d675ff1190dd60515cb  5ea19a66edfbf30ddb8b55b6   \n",
       "4  613657f332d7960d67273b2e  60897d99fa40140d62906a1c   \n",
       "6  60e4800a4d9ca6124ae63b4f  60e4673b5e3f8b6eee44c509   \n",
       "\n",
       "                                             payment          updated  \\\n",
       "0  {'cash': {'available': True, 'budget': 5000, '...  2021/8/25 19:38   \n",
       "1  {'cash': {'available': True, 'budget': 2000, '...   2021/6/15 2:53   \n",
       "2  {'cash': {'available': False, 'budget': 0}, 'p...  2020/6/26 17:32   \n",
       "4  {'cash': {'available': True, 'budget': 10000, ...  2021/9/27 15:35   \n",
       "6  {'equity': {'budget': 0, 'available': False}, ...   2021/7/6 16:21   \n",
       "\n",
       "       cam_created  isUnpublished  isDeleted  isDraft  isApproved  isPublic  \\\n",
       "0  2021/8/25 19:35          False      False     True       False     False   \n",
       "1   2021/6/15 2:31          False      False     True       False     False   \n",
       "2  2020/6/26 17:16          False      False     True       False     False   \n",
       "4   2021/9/6 18:03          False      False    False        True      True   \n",
       "6   2021/7/6 16:08          False      False     True       False     False   \n",
       "\n",
       "         published          created  planLevel       lastActive  \\\n",
       "0              NaN  2021/8/25 19:00        0.0  2021/8/25 19:38   \n",
       "1              NaN   2021/6/15 2:20        0.0  2021/7/12 23:29   \n",
       "2              NaN  2020/4/23 13:38        0.0  2021/7/31 15:50   \n",
       "4  2021/9/27 15:35  2021/4/28 15:22        0.0  2021/9/30 17:11   \n",
       "6              NaN   2021/7/6 14:22        2.0  2021/7/13 16:49   \n",
       "\n",
       "              companySize        country  brand_id  \n",
       "0       10 - 49 employees  United States      1816  \n",
       "1  less than 10 employees  United States      4734  \n",
       "2                     NaN  United States      2960  \n",
       "4  less than 10 employees  United States      2320  \n",
       "6  less than 10 employees  United States      4565  "
      ]
     },
     "execution_count": 219,
     "metadata": {},
     "output_type": "execute_result"
    }
   ],
   "source": [
    "df_clean.head()"
   ]
  },
  {
   "cell_type": "code",
   "execution_count": 220,
   "id": "bcba9868",
   "metadata": {},
   "outputs": [
    {
     "data": {
      "text/html": [
       "<div>\n",
       "<style scoped>\n",
       "    .dataframe tbody tr th:only-of-type {\n",
       "        vertical-align: middle;\n",
       "    }\n",
       "\n",
       "    .dataframe tbody tr th {\n",
       "        vertical-align: top;\n",
       "    }\n",
       "\n",
       "    .dataframe thead th {\n",
       "        text-align: right;\n",
       "    }\n",
       "</style>\n",
       "<table border=\"1\" class=\"dataframe\">\n",
       "  <thead>\n",
       "    <tr style=\"text-align: right;\">\n",
       "      <th></th>\n",
       "      <th>campaign_id</th>\n",
       "      <th>user_id</th>\n",
       "      <th>payment</th>\n",
       "      <th>updated</th>\n",
       "      <th>cam_created</th>\n",
       "      <th>isUnpublished</th>\n",
       "      <th>isDeleted</th>\n",
       "      <th>isDraft</th>\n",
       "      <th>isApproved</th>\n",
       "      <th>isPublic</th>\n",
       "      <th>published</th>\n",
       "      <th>created</th>\n",
       "      <th>planLevel</th>\n",
       "      <th>lastActive</th>\n",
       "      <th>companySize</th>\n",
       "      <th>country</th>\n",
       "      <th>brand_id</th>\n",
       "    </tr>\n",
       "  </thead>\n",
       "  <tbody>\n",
       "    <tr>\n",
       "      <th>98</th>\n",
       "      <td>5df28f90151f570dac9decd3</td>\n",
       "      <td>5d9f4d3e5b44c00de5def97e</td>\n",
       "      <td>{'cash': {'available': True, 'budget': 1000}, ...</td>\n",
       "      <td>2020/1/22 15:42</td>\n",
       "      <td>2019/12/12 19:05</td>\n",
       "      <td>True</td>\n",
       "      <td>False</td>\n",
       "      <td>False</td>\n",
       "      <td>False</td>\n",
       "      <td>False</td>\n",
       "      <td>2020/1/22 15:46</td>\n",
       "      <td>2019/10/10 15:24</td>\n",
       "      <td>0.0</td>\n",
       "      <td>2020/7/23 18:51</td>\n",
       "      <td>NaN</td>\n",
       "      <td>United States</td>\n",
       "      <td>781</td>\n",
       "    </tr>\n",
       "    <tr>\n",
       "      <th>160</th>\n",
       "      <td>5e286d4f7d367e0dc021ac41</td>\n",
       "      <td>5d9f4d3e5b44c00de5def97e</td>\n",
       "      <td>{'cash': {'available': False, 'budget': 1000},...</td>\n",
       "      <td>2020/1/22 19:32</td>\n",
       "      <td>2020/1/22 15:42</td>\n",
       "      <td>True</td>\n",
       "      <td>False</td>\n",
       "      <td>False</td>\n",
       "      <td>False</td>\n",
       "      <td>False</td>\n",
       "      <td>2020/1/22 15:46</td>\n",
       "      <td>2019/10/10 15:24</td>\n",
       "      <td>0.0</td>\n",
       "      <td>2020/7/23 18:51</td>\n",
       "      <td>NaN</td>\n",
       "      <td>United States</td>\n",
       "      <td>781</td>\n",
       "    </tr>\n",
       "    <tr>\n",
       "      <th>182</th>\n",
       "      <td>5e7381ff1c121e0d9b0b77b2</td>\n",
       "      <td>5d9f4d3e5b44c00de5def97e</td>\n",
       "      <td>{'cash': {'available': True, 'budget': 1250}, ...</td>\n",
       "      <td>2020/4/6 19:54</td>\n",
       "      <td>2020/3/19 14:30</td>\n",
       "      <td>True</td>\n",
       "      <td>False</td>\n",
       "      <td>False</td>\n",
       "      <td>False</td>\n",
       "      <td>False</td>\n",
       "      <td>2020/3/26 14:01</td>\n",
       "      <td>2019/10/10 15:24</td>\n",
       "      <td>0.0</td>\n",
       "      <td>2020/7/23 18:51</td>\n",
       "      <td>NaN</td>\n",
       "      <td>United States</td>\n",
       "      <td>781</td>\n",
       "    </tr>\n",
       "  </tbody>\n",
       "</table>\n",
       "</div>"
      ],
      "text/plain": [
       "                  campaign_id                   user_id  \\\n",
       "98   5df28f90151f570dac9decd3  5d9f4d3e5b44c00de5def97e   \n",
       "160  5e286d4f7d367e0dc021ac41  5d9f4d3e5b44c00de5def97e   \n",
       "182  5e7381ff1c121e0d9b0b77b2  5d9f4d3e5b44c00de5def97e   \n",
       "\n",
       "                                               payment          updated  \\\n",
       "98   {'cash': {'available': True, 'budget': 1000}, ...  2020/1/22 15:42   \n",
       "160  {'cash': {'available': False, 'budget': 1000},...  2020/1/22 19:32   \n",
       "182  {'cash': {'available': True, 'budget': 1250}, ...   2020/4/6 19:54   \n",
       "\n",
       "          cam_created  isUnpublished  isDeleted  isDraft  isApproved  \\\n",
       "98   2019/12/12 19:05           True      False    False       False   \n",
       "160   2020/1/22 15:42           True      False    False       False   \n",
       "182   2020/3/19 14:30           True      False    False       False   \n",
       "\n",
       "     isPublic        published           created  planLevel       lastActive  \\\n",
       "98      False  2020/1/22 15:46  2019/10/10 15:24        0.0  2020/7/23 18:51   \n",
       "160     False  2020/1/22 15:46  2019/10/10 15:24        0.0  2020/7/23 18:51   \n",
       "182     False  2020/3/26 14:01  2019/10/10 15:24        0.0  2020/7/23 18:51   \n",
       "\n",
       "    companySize        country  brand_id  \n",
       "98          NaN  United States       781  \n",
       "160         NaN  United States       781  \n",
       "182         NaN  United States       781  "
      ]
     },
     "execution_count": 220,
     "metadata": {},
     "output_type": "execute_result"
    }
   ],
   "source": [
    "df_clean.loc[df_clean['brand_id']==781] # Check if there is duplicates"
   ]
  },
  {
   "cell_type": "markdown",
   "id": "03e9a6d8",
   "metadata": {},
   "source": [
    "## <font color = blue>Questions</font>"
   ]
  },
  {
   "cell_type": "markdown",
   "id": "4786b463",
   "metadata": {},
   "source": [
    "## What is the ratio of brands that published campaigns vs. did not publish any campaign within each plan level?"
   ]
  },
  {
   "cell_type": "code",
   "execution_count": 221,
   "id": "fb19320c",
   "metadata": {},
   "outputs": [
    {
     "data": {
      "text/plain": [
       "count                          126\n",
       "unique                         126\n",
       "top       5f9b01c29411230d6ab857d8\n",
       "freq                             1\n",
       "Name: campaign_id, dtype: object"
      ]
     },
     "execution_count": 221,
     "metadata": {},
     "output_type": "execute_result"
    }
   ],
   "source": [
    "df_clean['campaign_id'].describe()"
   ]
  },
  {
   "cell_type": "code",
   "execution_count": 222,
   "id": "cd2f5100",
   "metadata": {},
   "outputs": [
    {
     "data": {
      "text/html": [
       "<div>\n",
       "<style scoped>\n",
       "    .dataframe tbody tr th:only-of-type {\n",
       "        vertical-align: middle;\n",
       "    }\n",
       "\n",
       "    .dataframe tbody tr th {\n",
       "        vertical-align: top;\n",
       "    }\n",
       "\n",
       "    .dataframe thead th {\n",
       "        text-align: right;\n",
       "    }\n",
       "</style>\n",
       "<table border=\"1\" class=\"dataframe\">\n",
       "  <thead>\n",
       "    <tr style=\"text-align: right;\">\n",
       "      <th></th>\n",
       "      <th>isUnpublished</th>\n",
       "      <th>planLevel</th>\n",
       "      <th>Count</th>\n",
       "    </tr>\n",
       "  </thead>\n",
       "  <tbody>\n",
       "    <tr>\n",
       "      <th>0</th>\n",
       "      <td>False</td>\n",
       "      <td>0.0</td>\n",
       "      <td>63</td>\n",
       "    </tr>\n",
       "    <tr>\n",
       "      <th>1</th>\n",
       "      <td>False</td>\n",
       "      <td>2.0</td>\n",
       "      <td>1</td>\n",
       "    </tr>\n",
       "    <tr>\n",
       "      <th>2</th>\n",
       "      <td>False</td>\n",
       "      <td>3.0</td>\n",
       "      <td>5</td>\n",
       "    </tr>\n",
       "    <tr>\n",
       "      <th>3</th>\n",
       "      <td>False</td>\n",
       "      <td>9.0</td>\n",
       "      <td>3</td>\n",
       "    </tr>\n",
       "    <tr>\n",
       "      <th>4</th>\n",
       "      <td>True</td>\n",
       "      <td>0.0</td>\n",
       "      <td>41</td>\n",
       "    </tr>\n",
       "    <tr>\n",
       "      <th>5</th>\n",
       "      <td>True</td>\n",
       "      <td>1.0</td>\n",
       "      <td>1</td>\n",
       "    </tr>\n",
       "    <tr>\n",
       "      <th>6</th>\n",
       "      <td>True</td>\n",
       "      <td>3.0</td>\n",
       "      <td>1</td>\n",
       "    </tr>\n",
       "    <tr>\n",
       "      <th>7</th>\n",
       "      <td>True</td>\n",
       "      <td>9.0</td>\n",
       "      <td>3</td>\n",
       "    </tr>\n",
       "  </tbody>\n",
       "</table>\n",
       "</div>"
      ],
      "text/plain": [
       "   isUnpublished  planLevel  Count\n",
       "0          False        0.0     63\n",
       "1          False        2.0      1\n",
       "2          False        3.0      5\n",
       "3          False        9.0      3\n",
       "4           True        0.0     41\n",
       "5           True        1.0      1\n",
       "6           True        3.0      1\n",
       "7           True        9.0      3"
      ]
     },
     "execution_count": 222,
     "metadata": {},
     "output_type": "execute_result"
    }
   ],
   "source": [
    "temp1=df_clean.groupby([\"isUnpublished\", \"planLevel\"])[\"brand_id\"].nunique().reset_index(name=\"Count\")\n",
    "temp1"
   ]
  },
  {
   "cell_type": "code",
   "execution_count": 223,
   "id": "c62207a5",
   "metadata": {},
   "outputs": [
    {
     "data": {
      "text/html": [
       "<div>\n",
       "<style scoped>\n",
       "    .dataframe tbody tr th:only-of-type {\n",
       "        vertical-align: middle;\n",
       "    }\n",
       "\n",
       "    .dataframe tbody tr th {\n",
       "        vertical-align: top;\n",
       "    }\n",
       "\n",
       "    .dataframe thead th {\n",
       "        text-align: right;\n",
       "    }\n",
       "</style>\n",
       "<table border=\"1\" class=\"dataframe\">\n",
       "  <thead>\n",
       "    <tr style=\"text-align: right;\">\n",
       "      <th>isUnpublished</th>\n",
       "      <th>False</th>\n",
       "      <th>True</th>\n",
       "    </tr>\n",
       "    <tr>\n",
       "      <th>planLevel</th>\n",
       "      <th></th>\n",
       "      <th></th>\n",
       "    </tr>\n",
       "  </thead>\n",
       "  <tbody>\n",
       "    <tr>\n",
       "      <th>0.0</th>\n",
       "      <td>63.0</td>\n",
       "      <td>41.0</td>\n",
       "    </tr>\n",
       "    <tr>\n",
       "      <th>1.0</th>\n",
       "      <td>NaN</td>\n",
       "      <td>1.0</td>\n",
       "    </tr>\n",
       "    <tr>\n",
       "      <th>2.0</th>\n",
       "      <td>1.0</td>\n",
       "      <td>NaN</td>\n",
       "    </tr>\n",
       "    <tr>\n",
       "      <th>3.0</th>\n",
       "      <td>5.0</td>\n",
       "      <td>1.0</td>\n",
       "    </tr>\n",
       "    <tr>\n",
       "      <th>9.0</th>\n",
       "      <td>3.0</td>\n",
       "      <td>3.0</td>\n",
       "    </tr>\n",
       "  </tbody>\n",
       "</table>\n",
       "</div>"
      ],
      "text/plain": [
       "isUnpublished  False  True \n",
       "planLevel                  \n",
       "0.0             63.0   41.0\n",
       "1.0              NaN    1.0\n",
       "2.0              1.0    NaN\n",
       "3.0              5.0    1.0\n",
       "9.0              3.0    3.0"
      ]
     },
     "execution_count": 223,
     "metadata": {},
     "output_type": "execute_result"
    }
   ],
   "source": [
    "temp1.fillna(0)\n",
    "temp1.pivot(index='planLevel', columns='isUnpublished', values='Count')"
   ]
  },
  {
   "cell_type": "code",
   "execution_count": 224,
   "id": "d42ced28",
   "metadata": {},
   "outputs": [],
   "source": [
    "#0: 1.54\n",
    "#1: 0\n",
    "#2: infinite\n",
    "#3: 5.00\n",
    "#9: 1.00"
   ]
  },
  {
   "cell_type": "markdown",
   "id": "cdf73653",
   "metadata": {},
   "source": [
    "## How many brands continued to create campaigns after their first published one?"
   ]
  },
  {
   "cell_type": "code",
   "execution_count": 225,
   "id": "c420c310",
   "metadata": {},
   "outputs": [
    {
     "data": {
      "text/plain": [
       "(21, 17)"
      ]
     },
     "execution_count": 225,
     "metadata": {},
     "output_type": "execute_result"
    }
   ],
   "source": [
    "counts = df_clean['brand_id'].value_counts()\n",
    "temp2 = df_clean[df_clean['brand_id'].isin(counts.index[counts > 1])]\n",
    "temp2.shape"
   ]
  },
  {
   "cell_type": "code",
   "execution_count": 226,
   "id": "954c02ea",
   "metadata": {},
   "outputs": [],
   "source": [
    "temp2_1 = temp2.loc[temp2['isUnpublished'] == False]"
   ]
  },
  {
   "cell_type": "code",
   "execution_count": 227,
   "id": "a9f2662c",
   "metadata": {},
   "outputs": [
    {
     "data": {
      "text/plain": [
       "<bound method IndexOpsMixin.value_counts of 20     1195\n",
       "55     5192\n",
       "68     3189\n",
       "86     1195\n",
       "107    3408\n",
       "156    5192\n",
       "195    2023\n",
       "216    3189\n",
       "220    3885\n",
       "Name: brand_id, dtype: int64>"
      ]
     },
     "execution_count": 227,
     "metadata": {},
     "output_type": "execute_result"
    }
   ],
   "source": [
    "temp2_1.brand_id.value_counts"
   ]
  },
  {
   "cell_type": "code",
   "execution_count": 228,
   "id": "f37e9f95",
   "metadata": {},
   "outputs": [],
   "source": [
    "## 6 brands continued to create campaigns after their first published one"
   ]
  },
  {
   "cell_type": "markdown",
   "id": "077e4d1d",
   "metadata": {},
   "source": [
    "## Which brands have the highest paying campaigns?"
   ]
  },
  {
   "cell_type": "code",
   "execution_count": 229,
   "id": "946fd52d",
   "metadata": {},
   "outputs": [
    {
     "name": "stderr",
     "output_type": "stream",
     "text": [
      "/home/qinren/anaconda3/lib/python3.8/site-packages/pandas/core/generic.py:5303: SettingWithCopyWarning: \n",
      "A value is trying to be set on a copy of a slice from a DataFrame.\n",
      "Try using .loc[row_indexer,col_indexer] = value instead\n",
      "\n",
      "See the caveats in the documentation: https://pandas.pydata.org/pandas-docs/stable/user_guide/indexing.html#returning-a-view-versus-a-copy\n",
      "  self[name] = value\n"
     ]
    }
   ],
   "source": [
    "from ast import literal_eval\n",
    "df_clean.payment = df_clean.payment.apply(literal_eval)"
   ]
  },
  {
   "cell_type": "code",
   "execution_count": 230,
   "id": "500aaf04",
   "metadata": {},
   "outputs": [],
   "source": [
    "temp3 = df_clean.join(pd.json_normalize(df_clean.payment))\n"
   ]
  },
  {
   "cell_type": "code",
   "execution_count": 231,
   "id": "4ac6b5ea",
   "metadata": {},
   "outputs": [
    {
     "name": "stdout",
     "output_type": "stream",
     "text": [
      "<class 'pandas.core.frame.DataFrame'>\n",
      "Int64Index: 126 entries, 0 to 294\n",
      "Data columns (total 30 columns):\n",
      " #   Column             Non-Null Count  Dtype  \n",
      "---  ------             --------------  -----  \n",
      " 0   campaign_id        126 non-null    object \n",
      " 1   user_id            126 non-null    object \n",
      " 2   payment            126 non-null    object \n",
      " 3   updated            126 non-null    object \n",
      " 4   cam_created        126 non-null    object \n",
      " 5   isUnpublished      126 non-null    bool   \n",
      " 6   isDeleted          126 non-null    bool   \n",
      " 7   isDraft            126 non-null    bool   \n",
      " 8   isApproved         126 non-null    bool   \n",
      " 9   isPublic           126 non-null    bool   \n",
      " 10  published          65 non-null     object \n",
      " 11  created            126 non-null    object \n",
      " 12  planLevel          126 non-null    float64\n",
      " 13  lastActive         126 non-null    object \n",
      " 14  companySize        37 non-null     object \n",
      " 15  country            115 non-null    object \n",
      " 16  brand_id           126 non-null    int64  \n",
      " 17  cash.available     59 non-null     object \n",
      " 18  cash.budget        58 non-null     float64\n",
      " 19  cash.minBudget     15 non-null     float64\n",
      " 20  product.available  59 non-null     object \n",
      " 21  product.budget     59 non-null     float64\n",
      " 22  royalty.available  59 non-null     object \n",
      " 23  royalty.budget     59 non-null     float64\n",
      " 24  equity.available   59 non-null     object \n",
      " 25  equity.budget      59 non-null     float64\n",
      " 26  mediaProduction    6 non-null      object \n",
      " 27  product.requestCC  27 non-null     object \n",
      " 28  royalty.prefix     1 non-null      object \n",
      " 29  equity.prefix      1 non-null      object \n",
      "dtypes: bool(5), float64(6), int64(1), object(18)\n",
      "memory usage: 31.2+ KB\n"
     ]
    }
   ],
   "source": [
    "temp3.info()"
   ]
  },
  {
   "cell_type": "code",
   "execution_count": 232,
   "id": "366286f4",
   "metadata": {},
   "outputs": [],
   "source": [
    "temp3=temp3.fillna(0)"
   ]
  },
  {
   "cell_type": "code",
   "execution_count": 233,
   "id": "3e24d239",
   "metadata": {},
   "outputs": [],
   "source": [
    "temp3['Total_Pay']=temp3['cash.budget']+temp3['product.budget']+temp3['royalty.budget']+temp3['equity.budget']"
   ]
  },
  {
   "cell_type": "code",
   "execution_count": 234,
   "id": "ae651ba6",
   "metadata": {},
   "outputs": [
    {
     "name": "stdout",
     "output_type": "stream",
     "text": [
      "100120.0\n"
     ]
    }
   ],
   "source": [
    "max_element = temp3['Total_Pay'].max()\n",
    "print(max_element)"
   ]
  },
  {
   "cell_type": "code",
   "execution_count": 236,
   "id": "f8b8e8ad",
   "metadata": {},
   "outputs": [
    {
     "data": {
      "text/html": [
       "<div>\n",
       "<style scoped>\n",
       "    .dataframe tbody tr th:only-of-type {\n",
       "        vertical-align: middle;\n",
       "    }\n",
       "\n",
       "    .dataframe tbody tr th {\n",
       "        vertical-align: top;\n",
       "    }\n",
       "\n",
       "    .dataframe thead th {\n",
       "        text-align: right;\n",
       "    }\n",
       "</style>\n",
       "<table border=\"1\" class=\"dataframe\">\n",
       "  <thead>\n",
       "    <tr style=\"text-align: right;\">\n",
       "      <th></th>\n",
       "      <th>campaign_id</th>\n",
       "      <th>user_id</th>\n",
       "      <th>payment</th>\n",
       "      <th>updated</th>\n",
       "      <th>cam_created</th>\n",
       "      <th>isUnpublished</th>\n",
       "      <th>isDeleted</th>\n",
       "      <th>isDraft</th>\n",
       "      <th>isApproved</th>\n",
       "      <th>isPublic</th>\n",
       "      <th>published</th>\n",
       "      <th>created</th>\n",
       "      <th>planLevel</th>\n",
       "      <th>lastActive</th>\n",
       "      <th>companySize</th>\n",
       "      <th>country</th>\n",
       "      <th>brand_id</th>\n",
       "      <th>cash.available</th>\n",
       "      <th>cash.budget</th>\n",
       "      <th>cash.minBudget</th>\n",
       "      <th>product.available</th>\n",
       "      <th>product.budget</th>\n",
       "      <th>royalty.available</th>\n",
       "      <th>royalty.budget</th>\n",
       "      <th>equity.available</th>\n",
       "      <th>equity.budget</th>\n",
       "      <th>mediaProduction</th>\n",
       "      <th>product.requestCC</th>\n",
       "      <th>royalty.prefix</th>\n",
       "      <th>equity.prefix</th>\n",
       "      <th>Total_Pay</th>\n",
       "    </tr>\n",
       "  </thead>\n",
       "  <tbody>\n",
       "    <tr>\n",
       "      <th>99</th>\n",
       "      <td>5f57f3349431f20d8c931276</td>\n",
       "      <td>5d7113d5c3cec45dc2e8a516</td>\n",
       "      <td>{'cash': {'available': True, 'budget': 15000},...</td>\n",
       "      <td>2020/9/8 21:13</td>\n",
       "      <td>2020/9/8 21:10</td>\n",
       "      <td>True</td>\n",
       "      <td>False</td>\n",
       "      <td>False</td>\n",
       "      <td>True</td>\n",
       "      <td>False</td>\n",
       "      <td>2020/9/8 21:13</td>\n",
       "      <td>2019/9/5 13:55</td>\n",
       "      <td>1.0</td>\n",
       "      <td>2021/2/19 18:22</td>\n",
       "      <td>0</td>\n",
       "      <td>United States</td>\n",
       "      <td>5083</td>\n",
       "      <td>True</td>\n",
       "      <td>100000.0</td>\n",
       "      <td>0.0</td>\n",
       "      <td>True</td>\n",
       "      <td>100.0</td>\n",
       "      <td>False</td>\n",
       "      <td>10.0</td>\n",
       "      <td>False</td>\n",
       "      <td>10.0</td>\n",
       "      <td>0</td>\n",
       "      <td>0</td>\n",
       "      <td>0</td>\n",
       "      <td>0</td>\n",
       "      <td>100120.0</td>\n",
       "    </tr>\n",
       "  </tbody>\n",
       "</table>\n",
       "</div>"
      ],
      "text/plain": [
       "                 campaign_id                   user_id  \\\n",
       "99  5f57f3349431f20d8c931276  5d7113d5c3cec45dc2e8a516   \n",
       "\n",
       "                                              payment         updated  \\\n",
       "99  {'cash': {'available': True, 'budget': 15000},...  2020/9/8 21:13   \n",
       "\n",
       "       cam_created  isUnpublished  isDeleted  isDraft  isApproved  isPublic  \\\n",
       "99  2020/9/8 21:10           True      False    False        True     False   \n",
       "\n",
       "         published         created  planLevel       lastActive companySize  \\\n",
       "99  2020/9/8 21:13  2019/9/5 13:55        1.0  2021/2/19 18:22           0   \n",
       "\n",
       "          country  brand_id cash.available  cash.budget  cash.minBudget  \\\n",
       "99  United States      5083           True     100000.0             0.0   \n",
       "\n",
       "   product.available  product.budget royalty.available  royalty.budget  \\\n",
       "99              True           100.0             False            10.0   \n",
       "\n",
       "   equity.available  equity.budget mediaProduction product.requestCC  \\\n",
       "99            False           10.0               0                 0   \n",
       "\n",
       "   royalty.prefix equity.prefix  Total_Pay  \n",
       "99              0             0   100120.0  "
      ]
     },
     "execution_count": 236,
     "metadata": {},
     "output_type": "execute_result"
    }
   ],
   "source": [
    "pd.set_option('display.max_columns', None)\n",
    "temp3.loc[temp3['Total_Pay']==100120.0] #It is Brand 5083"
   ]
  },
  {
   "cell_type": "markdown",
   "id": "de0c2ba7",
   "metadata": {},
   "source": [
    "## How long does it take for new brands to publish a campaign? "
   ]
  },
  {
   "cell_type": "code",
   "execution_count": 239,
   "id": "9745548a",
   "metadata": {},
   "outputs": [
    {
     "name": "stderr",
     "output_type": "stream",
     "text": [
      "/tmp/ipykernel_6113/3941685618.py:1: SettingWithCopyWarning: \n",
      "A value is trying to be set on a copy of a slice from a DataFrame.\n",
      "Try using .loc[row_indexer,col_indexer] = value instead\n",
      "\n",
      "See the caveats in the documentation: https://pandas.pydata.org/pandas-docs/stable/user_guide/indexing.html#returning-a-view-versus-a-copy\n",
      "  df_clean['cam_created'] = pd.to_datetime(df_clean['cam_created']) #Change time variable into datetime type\n",
      "/tmp/ipykernel_6113/3941685618.py:2: SettingWithCopyWarning: \n",
      "A value is trying to be set on a copy of a slice from a DataFrame.\n",
      "Try using .loc[row_indexer,col_indexer] = value instead\n",
      "\n",
      "See the caveats in the documentation: https://pandas.pydata.org/pandas-docs/stable/user_guide/indexing.html#returning-a-view-versus-a-copy\n",
      "  df_clean['created'] = pd.to_datetime(df_clean['created']) #Change time variable into datetime type\n",
      "/tmp/ipykernel_6113/3941685618.py:4: SettingWithCopyWarning: \n",
      "A value is trying to be set on a copy of a slice from a DataFrame.\n",
      "Try using .loc[row_indexer,col_indexer] = value instead\n",
      "\n",
      "See the caveats in the documentation: https://pandas.pydata.org/pandas-docs/stable/user_guide/indexing.html#returning-a-view-versus-a-copy\n",
      "  df_clean['time']=df_clean.cam_created.copy()-df_clean.created.copy()\n",
      "/tmp/ipykernel_6113/3941685618.py:5: SettingWithCopyWarning: \n",
      "A value is trying to be set on a copy of a slice from a DataFrame.\n",
      "Try using .loc[row_indexer,col_indexer] = value instead\n",
      "\n",
      "See the caveats in the documentation: https://pandas.pydata.org/pandas-docs/stable/user_guide/indexing.html#returning-a-view-versus-a-copy\n",
      "  df_clean['time']= df_clean['time'].dt.days\n"
     ]
    },
    {
     "data": {
      "text/plain": [
       "count    126.000000\n",
       "mean      42.349206\n",
       "std       78.240278\n",
       "min        0.000000\n",
       "25%        0.000000\n",
       "50%        6.500000\n",
       "75%       47.750000\n",
       "max      392.000000\n",
       "Name: time, dtype: float64"
      ]
     },
     "execution_count": 239,
     "metadata": {},
     "output_type": "execute_result"
    }
   ],
   "source": [
    "df_clean['cam_created'] = pd.to_datetime(df_clean['cam_created']) #Change time variable into datetime type\n",
    "df_clean['created'] = pd.to_datetime(df_clean['created']) \n",
    "df_clean['time']=df_clean.cam_created.copy()-df_clean.created.copy()\n",
    "df_clean['time']= df_clean['time'].dt.days\n",
    "df_clean['time'].describe()"
   ]
  },
  {
   "cell_type": "markdown",
   "id": "2ff94a94",
   "metadata": {},
   "source": [
    "## It takes about 42 days for new brand to launch a campaign"
   ]
  },
  {
   "cell_type": "code",
   "execution_count": null,
   "id": "f08ec717",
   "metadata": {},
   "outputs": [],
   "source": []
  },
  {
   "cell_type": "code",
   "execution_count": null,
   "id": "086455c2",
   "metadata": {},
   "outputs": [],
   "source": []
  }
 ],
 "metadata": {
  "kernelspec": {
   "display_name": "Python 3 (ipykernel)",
   "language": "python",
   "name": "python3"
  },
  "language_info": {
   "codemirror_mode": {
    "name": "ipython",
    "version": 3
   },
   "file_extension": ".py",
   "mimetype": "text/x-python",
   "name": "python",
   "nbconvert_exporter": "python",
   "pygments_lexer": "ipython3",
   "version": "3.8.8"
  }
 },
 "nbformat": 4,
 "nbformat_minor": 5
}
